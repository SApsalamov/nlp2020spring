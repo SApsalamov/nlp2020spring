{
 "cells": [
  {
   "cell_type": "markdown",
   "metadata": {},
   "source": [
    "### Task: Automatically build abstracts of text documents.\n",
    "\n",
    "Input: An array of texts in JSON format. Sample texts are at example_texts.json.\n",
    "\n",
    "Output: An array of abstracts in JSON format (the order of abstracts corresponds to the order of texts in the input data).\n",
    "\n",
    "The maximum size of each of the abstracts is 300 characters (including white space). If the size of the abstract exceeds the specified threshold, then only the first 300 characters will be evaluated. A trivial solution (the first 300 characters of the document) is allowed, but not welcome.\n",
    "\n",
    "You can briefly describe the solution in the first line of the download file after the # character. The information will be useful to the authors of the course to gain an idea of the methods and approaches used.\n",
    "\n",
    "Rating: ROUGE-2 - proximity to a set of manually compiled abstracts based on bigrams of words (value from 0 to 1).\n",
    "\n",
    "Input can be found at dataset_43428_1.txt\n",
    "\n",
    "Output is at outdataset_43428_1.txt"
   ]
  },
  {
   "cell_type": "markdown",
   "metadata": {},
   "source": [
    "Solution description:\n"
   ]
  },
  {
   "cell_type": "markdown",
   "metadata": {},
   "source": [
    "## Test part"
   ]
  },
  {
   "cell_type": "code",
   "execution_count": 1,
   "metadata": {},
   "outputs": [
    {
     "data": {
      "text/html": [
       "<div>\n",
       "<style scoped>\n",
       "    .dataframe tbody tr th:only-of-type {\n",
       "        vertical-align: middle;\n",
       "    }\n",
       "\n",
       "    .dataframe tbody tr th {\n",
       "        vertical-align: top;\n",
       "    }\n",
       "\n",
       "    .dataframe thead th {\n",
       "        text-align: right;\n",
       "    }\n",
       "</style>\n",
       "<table border=\"1\" class=\"dataframe\">\n",
       "  <thead>\n",
       "    <tr style=\"text-align: right;\">\n",
       "      <th></th>\n",
       "      <th>0</th>\n",
       "    </tr>\n",
       "  </thead>\n",
       "  <tbody>\n",
       "    <tr>\n",
       "      <th>0</th>\n",
       "      <td>Увидеть мысль\\n\\nЯпонским ученым удалось распо...</td>\n",
       "    </tr>\n",
       "    <tr>\n",
       "      <th>1</th>\n",
       "      <td>Карбофос\\n\\nКарбофос ( O , O - Диметил - S - (...</td>\n",
       "    </tr>\n",
       "    <tr>\n",
       "      <th>2</th>\n",
       "      <td>Киев идет на уступки : Яценюк передает власть ...</td>\n",
       "    </tr>\n",
       "    <tr>\n",
       "      <th>3</th>\n",
       "      <td>« Лужков . Итоги »\\nКонец эры хозяйственника и...</td>\n",
       "    </tr>\n",
       "    <tr>\n",
       "      <th>4</th>\n",
       "      <td>... в ходе написания ходатайства : сделать его...</td>\n",
       "    </tr>\n",
       "  </tbody>\n",
       "</table>\n",
       "</div>"
      ],
      "text/plain": [
       "                                                   0\n",
       "0  Увидеть мысль\\n\\nЯпонским ученым удалось распо...\n",
       "1  Карбофос\\n\\nКарбофос ( O , O - Диметил - S - (...\n",
       "2  Киев идет на уступки : Яценюк передает власть ...\n",
       "3  « Лужков . Итоги »\\nКонец эры хозяйственника и...\n",
       "4  ... в ходе написания ходатайства : сделать его..."
      ]
     },
     "execution_count": 1,
     "metadata": {},
     "output_type": "execute_result"
    }
   ],
   "source": [
    "import pandas as pd\n",
    "\n",
    "df_jsexample = pd.read_json('example_texts.json')\n",
    "df_jsexample"
   ]
  },
  {
   "cell_type": "code",
   "execution_count": 2,
   "metadata": {},
   "outputs": [
    {
     "data": {
      "text/plain": [
       "'Увидеть мысль\\n\\nЯпонским ученым удалось распознать изображение , увиденное человеком , сканируя его мозг .\\n\\nКак пишет Yomiuri , группе сотрудников отделения нейроинформатики Международного исследовательского института передовых средств коммуникации ( Киото , Япония ) удалось восстановить изображение , увиденное человеком , опираясь только на сканирование электрических сигналов мозга .\\n\\nВ ходе эксперимента исследователи продемонстрировали испытуемым серию из 440 различных картинок , представлявших собой произвольное сочетание темных и светлых пятен , на 100-пиксельном экране .\\nВ процессе демонстрации измерялась активность в зрительной коре головного мозга с помощью функционального магниторезонансного сканера .\\nПосле этого испытуемым были показаны буквы , составляющие слово neuron , и элементарные геометрические фигуры .\\nНа основе сравнения предыдущей серии изображений и показаний сканера исследователям удалось правильно реконструировать новые изображения по сигналам мозговой активности .\\n\\nЗа последние несколько лет нейрофизиология сделала большой шаг вперед в понимании работы человеческого мозга .\\nРабота японских ученых — большой шаг на пути реализации идеи прямого человеко-машинного интерфейса .'"
      ]
     },
     "execution_count": 2,
     "metadata": {},
     "output_type": "execute_result"
    }
   ],
   "source": [
    "sample_text = df_jsexample[0][0]\n",
    "sample_text"
   ]
  },
  {
   "cell_type": "code",
   "execution_count": 3,
   "metadata": {},
   "outputs": [
    {
     "data": {
      "text/plain": [
       "'\\nFunctions for Dataframe changing: end\\n'"
      ]
     },
     "execution_count": 3,
     "metadata": {},
     "output_type": "execute_result"
    }
   ],
   "source": [
    "from gensim.summarization import summarize\n",
    "from nltk import tokenize\n",
    "import re\n",
    "\n",
    "def simpleword_count(text):\n",
    "    word_list = tokenize.word_tokenize(text)\n",
    "    return len(word_list)\n",
    "'''\n",
    "Functions for Dataframe changing: start\n",
    "'''\n",
    "def word_count_df(row):\n",
    "    text = row[0]\n",
    "    word_list = tokenize.word_tokenize(text)\n",
    "    return len(word_list)\n",
    "\n",
    "\n",
    "def clean_text(row):\n",
    "    text = row[0]\n",
    "    text = text.lower()\n",
    "    text = re.sub(r'\\n|\\r', ' ', text)\n",
    "    text = re.sub(r' +', ' ', text)\n",
    "    text = text.strip()\n",
    "    return text\n",
    "\n",
    "def summary_text(row):\n",
    "    text = row['clean_text']\n",
    "    sentences = tokenize.sent_tokenize(text)\n",
    "    wc = simpleword_count(text)\n",
    "    if len(sentences) == 1:\n",
    "        return text\n",
    "    if wc <= 1500:\n",
    "        summarized_text = summarize(text, ratio=0.2, split=False)\n",
    "    elif wc >= 1500:\n",
    "        summarized_text = summarize(text, word_count=300, split=False)\n",
    "    \n",
    "    return summarized_text\n",
    "\n",
    "def summary_word_count_df(row):\n",
    "    text = row['summary_text']\n",
    "    word_list = tokenize.word_tokenize(text)\n",
    "    return len(word_list)\n",
    "\n",
    "'''\n",
    "Functions for Dataframe changing: end\n",
    "'''"
   ]
  },
  {
   "cell_type": "code",
   "execution_count": 4,
   "metadata": {},
   "outputs": [],
   "source": [
    "df_jsexample['orig_word_count'] = df_jsexample.apply(lambda row: word_count_df(row), axis=1)"
   ]
  },
  {
   "cell_type": "code",
   "execution_count": 5,
   "metadata": {},
   "outputs": [],
   "source": [
    "df_jsexample['clean_text'] = df_jsexample.apply(lambda row: clean_text(row), axis=1)"
   ]
  },
  {
   "cell_type": "code",
   "execution_count": 6,
   "metadata": {},
   "outputs": [],
   "source": [
    "df_jsexample['summary_text'] = df_jsexample.apply(lambda row: summary_text(row), axis=1)"
   ]
  },
  {
   "cell_type": "code",
   "execution_count": 7,
   "metadata": {},
   "outputs": [],
   "source": [
    "df_jsexample['sum_word_count'] = df_jsexample.apply(lambda row: summary_word_count_df(row), axis=1)"
   ]
  },
  {
   "cell_type": "code",
   "execution_count": 8,
   "metadata": {},
   "outputs": [
    {
     "data": {
      "text/html": [
       "<div>\n",
       "<style scoped>\n",
       "    .dataframe tbody tr th:only-of-type {\n",
       "        vertical-align: middle;\n",
       "    }\n",
       "\n",
       "    .dataframe tbody tr th {\n",
       "        vertical-align: top;\n",
       "    }\n",
       "\n",
       "    .dataframe thead th {\n",
       "        text-align: right;\n",
       "    }\n",
       "</style>\n",
       "<table border=\"1\" class=\"dataframe\">\n",
       "  <thead>\n",
       "    <tr style=\"text-align: right;\">\n",
       "      <th></th>\n",
       "      <th>0</th>\n",
       "      <th>orig_word_count</th>\n",
       "      <th>clean_text</th>\n",
       "      <th>summary_text</th>\n",
       "      <th>sum_word_count</th>\n",
       "    </tr>\n",
       "  </thead>\n",
       "  <tbody>\n",
       "    <tr>\n",
       "      <th>0</th>\n",
       "      <td>Увидеть мысль\\n\\nЯпонским ученым удалось распо...</td>\n",
       "      <td>155</td>\n",
       "      <td>увидеть мысль японским ученым удалось распозна...</td>\n",
       "      <td>как пишет yomiuri , группе сотрудников отделен...</td>\n",
       "      <td>34</td>\n",
       "    </tr>\n",
       "    <tr>\n",
       "      <th>1</th>\n",
       "      <td>Карбофос\\n\\nКарбофос ( O , O - Диметил - S - (...</td>\n",
       "      <td>131</td>\n",
       "      <td>карбофос карбофос ( o , o - диметил - s - ( 1,...</td>\n",
       "      <td>в настоящее время вытеснен более совершенными ...</td>\n",
       "      <td>12</td>\n",
       "    </tr>\n",
       "    <tr>\n",
       "      <th>2</th>\n",
       "      <td>Киев идет на уступки : Яценюк передает власть ...</td>\n",
       "      <td>282</td>\n",
       "      <td>киев идет на уступки : яценюк передает власть ...</td>\n",
       "      <td>киев идет на уступки : яценюк передает власть ...</td>\n",
       "      <td>38</td>\n",
       "    </tr>\n",
       "    <tr>\n",
       "      <th>3</th>\n",
       "      <td>« Лужков . Итоги »\\nКонец эры хозяйственника и...</td>\n",
       "      <td>2772</td>\n",
       "      <td>« лужков . итоги » конец эры хозяйственника ил...</td>\n",
       "      <td>пока борис немцов подсчитывал разницу между ст...</td>\n",
       "      <td>279</td>\n",
       "    </tr>\n",
       "    <tr>\n",
       "      <th>4</th>\n",
       "      <td>... в ходе написания ходатайства : сделать его...</td>\n",
       "      <td>323</td>\n",
       "      <td>... в ходе написания ходатайства : сделать его...</td>\n",
       "      <td>закончим , как и положено : &amp;quot; на основани...</td>\n",
       "      <td>110</td>\n",
       "    </tr>\n",
       "  </tbody>\n",
       "</table>\n",
       "</div>"
      ],
      "text/plain": [
       "                                                   0  orig_word_count  \\\n",
       "0  Увидеть мысль\\n\\nЯпонским ученым удалось распо...              155   \n",
       "1  Карбофос\\n\\nКарбофос ( O , O - Диметил - S - (...              131   \n",
       "2  Киев идет на уступки : Яценюк передает власть ...              282   \n",
       "3  « Лужков . Итоги »\\nКонец эры хозяйственника и...             2772   \n",
       "4  ... в ходе написания ходатайства : сделать его...              323   \n",
       "\n",
       "                                          clean_text  \\\n",
       "0  увидеть мысль японским ученым удалось распозна...   \n",
       "1  карбофос карбофос ( o , o - диметил - s - ( 1,...   \n",
       "2  киев идет на уступки : яценюк передает власть ...   \n",
       "3  « лужков . итоги » конец эры хозяйственника ил...   \n",
       "4  ... в ходе написания ходатайства : сделать его...   \n",
       "\n",
       "                                        summary_text  sum_word_count  \n",
       "0  как пишет yomiuri , группе сотрудников отделен...              34  \n",
       "1  в настоящее время вытеснен более совершенными ...              12  \n",
       "2  киев идет на уступки : яценюк передает власть ...              38  \n",
       "3  пока борис немцов подсчитывал разницу между ст...             279  \n",
       "4  закончим , как и положено : &quot; на основани...             110  "
      ]
     },
     "execution_count": 8,
     "metadata": {},
     "output_type": "execute_result"
    }
   ],
   "source": [
    "df_jsexample.head()"
   ]
  },
  {
   "cell_type": "code",
   "execution_count": null,
   "metadata": {},
   "outputs": [],
   "source": []
  },
  {
   "cell_type": "markdown",
   "metadata": {},
   "source": [
    "## Task part"
   ]
  },
  {
   "cell_type": "code",
   "execution_count": 9,
   "metadata": {},
   "outputs": [
    {
     "data": {
      "text/html": [
       "<div>\n",
       "<style scoped>\n",
       "    .dataframe tbody tr th:only-of-type {\n",
       "        vertical-align: middle;\n",
       "    }\n",
       "\n",
       "    .dataframe tbody tr th {\n",
       "        vertical-align: top;\n",
       "    }\n",
       "\n",
       "    .dataframe thead th {\n",
       "        text-align: right;\n",
       "    }\n",
       "</style>\n",
       "<table border=\"1\" class=\"dataframe\">\n",
       "  <thead>\n",
       "    <tr style=\"text-align: right;\">\n",
       "      <th></th>\n",
       "      <th>0</th>\n",
       "    </tr>\n",
       "  </thead>\n",
       "  <tbody>\n",
       "    <tr>\n",
       "      <th>0</th>\n",
       "      <td>В Сербии арестован последний военный преступни...</td>\n",
       "    </tr>\n",
       "    <tr>\n",
       "      <th>1</th>\n",
       "      <td>АнтиПоттер\\nРуководство по эксплуатации волшеб...</td>\n",
       "    </tr>\n",
       "    <tr>\n",
       "      <th>2</th>\n",
       "      <td>Авто по карману\\nМихаил Прохоров собирается за...</td>\n",
       "    </tr>\n",
       "    <tr>\n",
       "      <th>3</th>\n",
       "      <td>В Казахстане состоялись выборы Президента\\n\\nВ...</td>\n",
       "    </tr>\n",
       "    <tr>\n",
       "      <th>4</th>\n",
       "      <td>В Москве подвели итоги Международной конференц...</td>\n",
       "    </tr>\n",
       "    <tr>\n",
       "      <th>...</th>\n",
       "      <td>...</td>\n",
       "    </tr>\n",
       "    <tr>\n",
       "      <th>195</th>\n",
       "      <td>13-я экспедиция МКС\\n\\n30 марта 2006 года с ко...</td>\n",
       "    </tr>\n",
       "    <tr>\n",
       "      <th>196</th>\n",
       "      <td>Пираты не признали вину\\n\\nВ американском горо...</td>\n",
       "    </tr>\n",
       "    <tr>\n",
       "      <th>197</th>\n",
       "      <td>Аллегория удачи .\\nВизит Дмитрия Медведева в К...</td>\n",
       "    </tr>\n",
       "    <tr>\n",
       "      <th>198</th>\n",
       "      <td>Тем временем участницы панк-группы встретились...</td>\n",
       "    </tr>\n",
       "    <tr>\n",
       "      <th>199</th>\n",
       "      <td>Статья 54 .\\nОбщие вопросы исчисления налогово...</td>\n",
       "    </tr>\n",
       "  </tbody>\n",
       "</table>\n",
       "<p>200 rows × 1 columns</p>\n",
       "</div>"
      ],
      "text/plain": [
       "                                                     0\n",
       "0    В Сербии арестован последний военный преступни...\n",
       "1    АнтиПоттер\\nРуководство по эксплуатации волшеб...\n",
       "2    Авто по карману\\nМихаил Прохоров собирается за...\n",
       "3    В Казахстане состоялись выборы Президента\\n\\nВ...\n",
       "4    В Москве подвели итоги Международной конференц...\n",
       "..                                                 ...\n",
       "195  13-я экспедиция МКС\\n\\n30 марта 2006 года с ко...\n",
       "196  Пираты не признали вину\\n\\nВ американском горо...\n",
       "197  Аллегория удачи .\\nВизит Дмитрия Медведева в К...\n",
       "198  Тем временем участницы панк-группы встретились...\n",
       "199  Статья 54 .\\nОбщие вопросы исчисления налогово...\n",
       "\n",
       "[200 rows x 1 columns]"
      ]
     },
     "execution_count": 9,
     "metadata": {},
     "output_type": "execute_result"
    }
   ],
   "source": [
    "df_dataset = pd.read_json('dataset_43428_1.txt')\n",
    "df_dataset"
   ]
  },
  {
   "cell_type": "code",
   "execution_count": 10,
   "metadata": {},
   "outputs": [],
   "source": [
    "df_dataset['orig_word_count'] = df_dataset.apply(lambda row: word_count_df(row), axis=1)"
   ]
  },
  {
   "cell_type": "code",
   "execution_count": 11,
   "metadata": {},
   "outputs": [],
   "source": [
    "df_dataset['clean_text'] = df_dataset.apply(lambda row: clean_text(row), axis=1)"
   ]
  },
  {
   "cell_type": "code",
   "execution_count": 12,
   "metadata": {},
   "outputs": [],
   "source": [
    "df_dataset['summary_text'] = df_dataset.apply(lambda row: summary_text(row), axis=1)"
   ]
  },
  {
   "cell_type": "code",
   "execution_count": 13,
   "metadata": {},
   "outputs": [],
   "source": [
    "df_dataset['summary_word_count'] = df_dataset.apply(lambda row: summary_word_count_df(row), axis=1)"
   ]
  },
  {
   "cell_type": "code",
   "execution_count": 14,
   "metadata": {},
   "outputs": [
    {
     "data": {
      "text/html": [
       "<div>\n",
       "<style scoped>\n",
       "    .dataframe tbody tr th:only-of-type {\n",
       "        vertical-align: middle;\n",
       "    }\n",
       "\n",
       "    .dataframe tbody tr th {\n",
       "        vertical-align: top;\n",
       "    }\n",
       "\n",
       "    .dataframe thead th {\n",
       "        text-align: right;\n",
       "    }\n",
       "</style>\n",
       "<table border=\"1\" class=\"dataframe\">\n",
       "  <thead>\n",
       "    <tr style=\"text-align: right;\">\n",
       "      <th></th>\n",
       "      <th>0</th>\n",
       "      <th>orig_word_count</th>\n",
       "      <th>clean_text</th>\n",
       "      <th>summary_text</th>\n",
       "      <th>summary_word_count</th>\n",
       "    </tr>\n",
       "  </thead>\n",
       "  <tbody>\n",
       "    <tr>\n",
       "      <th>0</th>\n",
       "      <td>В Сербии арестован последний военный преступни...</td>\n",
       "      <td>213</td>\n",
       "      <td>в сербии арестован последний военный преступни...</td>\n",
       "      <td>за информацию , способную помочь в поимке гора...</td>\n",
       "      <td>50</td>\n",
       "    </tr>\n",
       "    <tr>\n",
       "      <th>1</th>\n",
       "      <td>АнтиПоттер\\nРуководство по эксплуатации волшеб...</td>\n",
       "      <td>1918</td>\n",
       "      <td>антипоттер руководство по эксплуатации волшебн...</td>\n",
       "      <td>мне уже говорили мои молодые коллеги и просто ...</td>\n",
       "      <td>296</td>\n",
       "    </tr>\n",
       "    <tr>\n",
       "      <th>2</th>\n",
       "      <td>Авто по карману\\nМихаил Прохоров собирается за...</td>\n",
       "      <td>110</td>\n",
       "      <td>авто по карману михаил прохоров собирается зан...</td>\n",
       "      <td>интересы у олигарха михаила прохорова самые ра...</td>\n",
       "      <td>18</td>\n",
       "    </tr>\n",
       "    <tr>\n",
       "      <th>3</th>\n",
       "      <td>В Казахстане состоялись выборы Президента\\n\\nВ...</td>\n",
       "      <td>376</td>\n",
       "      <td>в казахстане состоялись выборы президента в во...</td>\n",
       "      <td>по предварительным данным опроса избирателей н...</td>\n",
       "      <td>51</td>\n",
       "    </tr>\n",
       "    <tr>\n",
       "      <th>4</th>\n",
       "      <td>В Москве подвели итоги Международной конференц...</td>\n",
       "      <td>880</td>\n",
       "      <td>в москве подвели итоги международной конференц...</td>\n",
       "      <td>в москве подвели итоги международной конференц...</td>\n",
       "      <td>228</td>\n",
       "    </tr>\n",
       "    <tr>\n",
       "      <th>...</th>\n",
       "      <td>...</td>\n",
       "      <td>...</td>\n",
       "      <td>...</td>\n",
       "      <td>...</td>\n",
       "      <td>...</td>\n",
       "    </tr>\n",
       "    <tr>\n",
       "      <th>195</th>\n",
       "      <td>13-я экспедиция МКС\\n\\n30 марта 2006 года с ко...</td>\n",
       "      <td>576</td>\n",
       "      <td>13-я экспедиция мкс 30 марта 2006 года с космо...</td>\n",
       "      <td>13-я экспедиция мкс 30 марта 2006 года с космо...</td>\n",
       "      <td>162</td>\n",
       "    </tr>\n",
       "    <tr>\n",
       "      <th>196</th>\n",
       "      <td>Пираты не признали вину\\n\\nВ американском горо...</td>\n",
       "      <td>253</td>\n",
       "      <td>пираты не признали вину в американском городе ...</td>\n",
       "      <td>кроме того , в руках вмс сша у берегов сомали ...</td>\n",
       "      <td>66</td>\n",
       "    </tr>\n",
       "    <tr>\n",
       "      <th>197</th>\n",
       "      <td>Аллегория удачи .\\nВизит Дмитрия Медведева в К...</td>\n",
       "      <td>1136</td>\n",
       "      <td>аллегория удачи . визит дмитрия медведева в ки...</td>\n",
       "      <td>трудно сказать , смирились ли сторонники викто...</td>\n",
       "      <td>344</td>\n",
       "    </tr>\n",
       "    <tr>\n",
       "      <th>198</th>\n",
       "      <td>Тем временем участницы панк-группы встретились...</td>\n",
       "      <td>519</td>\n",
       "      <td>тем временем участницы панк-группы встретились...</td>\n",
       "      <td>тем временем участницы панк-группы встретились...</td>\n",
       "      <td>100</td>\n",
       "    </tr>\n",
       "    <tr>\n",
       "      <th>199</th>\n",
       "      <td>Статья 54 .\\nОбщие вопросы исчисления налогово...</td>\n",
       "      <td>265</td>\n",
       "      <td>статья 54 . общие вопросы исчисления налоговой...</td>\n",
       "      <td>в случае невозможности определения периода сов...</td>\n",
       "      <td>32</td>\n",
       "    </tr>\n",
       "  </tbody>\n",
       "</table>\n",
       "<p>200 rows × 5 columns</p>\n",
       "</div>"
      ],
      "text/plain": [
       "                                                     0  orig_word_count  \\\n",
       "0    В Сербии арестован последний военный преступни...              213   \n",
       "1    АнтиПоттер\\nРуководство по эксплуатации волшеб...             1918   \n",
       "2    Авто по карману\\nМихаил Прохоров собирается за...              110   \n",
       "3    В Казахстане состоялись выборы Президента\\n\\nВ...              376   \n",
       "4    В Москве подвели итоги Международной конференц...              880   \n",
       "..                                                 ...              ...   \n",
       "195  13-я экспедиция МКС\\n\\n30 марта 2006 года с ко...              576   \n",
       "196  Пираты не признали вину\\n\\nВ американском горо...              253   \n",
       "197  Аллегория удачи .\\nВизит Дмитрия Медведева в К...             1136   \n",
       "198  Тем временем участницы панк-группы встретились...              519   \n",
       "199  Статья 54 .\\nОбщие вопросы исчисления налогово...              265   \n",
       "\n",
       "                                            clean_text  \\\n",
       "0    в сербии арестован последний военный преступни...   \n",
       "1    антипоттер руководство по эксплуатации волшебн...   \n",
       "2    авто по карману михаил прохоров собирается зан...   \n",
       "3    в казахстане состоялись выборы президента в во...   \n",
       "4    в москве подвели итоги международной конференц...   \n",
       "..                                                 ...   \n",
       "195  13-я экспедиция мкс 30 марта 2006 года с космо...   \n",
       "196  пираты не признали вину в американском городе ...   \n",
       "197  аллегория удачи . визит дмитрия медведева в ки...   \n",
       "198  тем временем участницы панк-группы встретились...   \n",
       "199  статья 54 . общие вопросы исчисления налоговой...   \n",
       "\n",
       "                                          summary_text  summary_word_count  \n",
       "0    за информацию , способную помочь в поимке гора...                  50  \n",
       "1    мне уже говорили мои молодые коллеги и просто ...                 296  \n",
       "2    интересы у олигарха михаила прохорова самые ра...                  18  \n",
       "3    по предварительным данным опроса избирателей н...                  51  \n",
       "4    в москве подвели итоги международной конференц...                 228  \n",
       "..                                                 ...                 ...  \n",
       "195  13-я экспедиция мкс 30 марта 2006 года с космо...                 162  \n",
       "196  кроме того , в руках вмс сша у берегов сомали ...                  66  \n",
       "197  трудно сказать , смирились ли сторонники викто...                 344  \n",
       "198  тем временем участницы панк-группы встретились...                 100  \n",
       "199  в случае невозможности определения периода сов...                  32  \n",
       "\n",
       "[200 rows x 5 columns]"
      ]
     },
     "execution_count": 14,
     "metadata": {},
     "output_type": "execute_result"
    }
   ],
   "source": [
    "df_dataset"
   ]
  },
  {
   "cell_type": "code",
   "execution_count": null,
   "metadata": {},
   "outputs": [],
   "source": []
  },
  {
   "cell_type": "code",
   "execution_count": 15,
   "metadata": {},
   "outputs": [],
   "source": [
    "df_dataset.to_json('gensim_output_dataset.json')"
   ]
  },
  {
   "cell_type": "code",
   "execution_count": 16,
   "metadata": {},
   "outputs": [
    {
     "data": {
      "text/html": [
       "<div>\n",
       "<style scoped>\n",
       "    .dataframe tbody tr th:only-of-type {\n",
       "        vertical-align: middle;\n",
       "    }\n",
       "\n",
       "    .dataframe tbody tr th {\n",
       "        vertical-align: top;\n",
       "    }\n",
       "\n",
       "    .dataframe thead th {\n",
       "        text-align: right;\n",
       "    }\n",
       "</style>\n",
       "<table border=\"1\" class=\"dataframe\">\n",
       "  <thead>\n",
       "    <tr style=\"text-align: right;\">\n",
       "      <th></th>\n",
       "      <th>summary_text</th>\n",
       "    </tr>\n",
       "  </thead>\n",
       "  <tbody>\n",
       "    <tr>\n",
       "      <th>0</th>\n",
       "      <td>за информацию , способную помочь в поимке гора...</td>\n",
       "    </tr>\n",
       "    <tr>\n",
       "      <th>1</th>\n",
       "      <td>мне уже говорили мои молодые коллеги и просто ...</td>\n",
       "    </tr>\n",
       "    <tr>\n",
       "      <th>2</th>\n",
       "      <td>интересы у олигарха михаила прохорова самые ра...</td>\n",
       "    </tr>\n",
       "    <tr>\n",
       "      <th>3</th>\n",
       "      <td>по предварительным данным опроса избирателей н...</td>\n",
       "    </tr>\n",
       "    <tr>\n",
       "      <th>4</th>\n",
       "      <td>в москве подвели итоги международной конференц...</td>\n",
       "    </tr>\n",
       "    <tr>\n",
       "      <th>...</th>\n",
       "      <td>...</td>\n",
       "    </tr>\n",
       "    <tr>\n",
       "      <th>195</th>\n",
       "      <td>13-я экспедиция мкс 30 марта 2006 года с космо...</td>\n",
       "    </tr>\n",
       "    <tr>\n",
       "      <th>196</th>\n",
       "      <td>кроме того , в руках вмс сша у берегов сомали ...</td>\n",
       "    </tr>\n",
       "    <tr>\n",
       "      <th>197</th>\n",
       "      <td>трудно сказать , смирились ли сторонники викто...</td>\n",
       "    </tr>\n",
       "    <tr>\n",
       "      <th>198</th>\n",
       "      <td>тем временем участницы панк-группы встретились...</td>\n",
       "    </tr>\n",
       "    <tr>\n",
       "      <th>199</th>\n",
       "      <td>в случае невозможности определения периода сов...</td>\n",
       "    </tr>\n",
       "  </tbody>\n",
       "</table>\n",
       "<p>200 rows × 1 columns</p>\n",
       "</div>"
      ],
      "text/plain": [
       "                                          summary_text\n",
       "0    за информацию , способную помочь в поимке гора...\n",
       "1    мне уже говорили мои молодые коллеги и просто ...\n",
       "2    интересы у олигарха михаила прохорова самые ра...\n",
       "3    по предварительным данным опроса избирателей н...\n",
       "4    в москве подвели итоги международной конференц...\n",
       "..                                                 ...\n",
       "195  13-я экспедиция мкс 30 марта 2006 года с космо...\n",
       "196  кроме того , в руках вмс сша у берегов сомали ...\n",
       "197  трудно сказать , смирились ли сторонники викто...\n",
       "198  тем временем участницы панк-группы встретились...\n",
       "199  в случае невозможности определения периода сов...\n",
       "\n",
       "[200 rows x 1 columns]"
      ]
     },
     "execution_count": 16,
     "metadata": {},
     "output_type": "execute_result"
    }
   ],
   "source": [
    "out_dataset = pd.DataFrame(df_dataset['summary_text'])\n",
    "out_dataset"
   ]
  },
  {
   "cell_type": "code",
   "execution_count": null,
   "metadata": {},
   "outputs": [],
   "source": []
  },
  {
   "cell_type": "code",
   "execution_count": 17,
   "metadata": {},
   "outputs": [],
   "source": [
    "\n",
    "# output file can be read only with pandas. \n",
    "# example of encoded string [\"\\u0412 \\u0421\\u0435\\u0440\\u0431\\u0438\\u0438\n",
    "# How to encode russian text properly in json?\n",
    "out_dataset.to_json('outdataset_43428_1.txt', orient='values')"
   ]
  },
  {
   "cell_type": "code",
   "execution_count": 18,
   "metadata": {},
   "outputs": [],
   "source": [
    "out_dataset.to_csv('outdataset_43428_1.csv',header=False, index=False)"
   ]
  },
  {
   "cell_type": "code",
   "execution_count": null,
   "metadata": {},
   "outputs": [],
   "source": []
  }
 ],
 "metadata": {
  "kernelspec": {
   "display_name": "Python 3",
   "language": "python",
   "name": "python3"
  },
  "language_info": {
   "codemirror_mode": {
    "name": "ipython",
    "version": 3
   },
   "file_extension": ".py",
   "mimetype": "text/x-python",
   "name": "python",
   "nbconvert_exporter": "python",
   "pygments_lexer": "ipython3",
   "version": "3.7.4"
  }
 },
 "nbformat": 4,
 "nbformat_minor": 4
}
